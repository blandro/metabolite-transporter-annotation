{
 "cells": [
  {
   "cell_type": "markdown",
   "metadata": {},
   "source": [
    "The goal of this file is to create a connection between a GO term and its name/label"
   ]
  },
  {
   "cell_type": "code",
   "execution_count": 1,
   "metadata": {},
   "outputs": [],
   "source": [
    "import rdflib\n",
    "import pandas as pd\n",
    "import gzip\n",
    "import requests"
   ]
  },
  {
   "cell_type": "code",
   "execution_count": 2,
   "metadata": {},
   "outputs": [
    {
     "name": "stdout",
     "output_type": "stream",
     "text": [
      "GO .owl file downloaded successfully!\n"
     ]
    }
   ],
   "source": [
    "url = \"http://purl.obolibrary.org/obo/go.owl\"\n",
    "\n",
    "response = requests.get(url)\n",
    "\n",
    "if response.status_code == 200:\n",
    "    with open(\"go.owl\", \"wb\") as file:\n",
    "        file.write(response.content)\n",
    "    print(\"GO .owl file downloaded successfully!\")\n",
    "else:\n",
    "    print(f\"Failed to download the file. Status code: {response.status_code}\")"
   ]
  },
  {
   "cell_type": "code",
   "execution_count": 2,
   "metadata": {},
   "outputs": [
    {
     "data": {
      "text/plain": [
       "<Graph identifier=Nc0263a7b8ee54d0b9b22cb31d318dced (<class 'rdflib.graph.Graph'>)>"
      ]
     },
     "execution_count": 2,
     "metadata": {},
     "output_type": "execute_result"
    }
   ],
   "source": [
    "g = rdflib.Graph()\n",
    "g.parse(\"go.owl\", format=\"xml\")"
   ]
  },
  {
   "cell_type": "code",
   "execution_count": 7,
   "metadata": {},
   "outputs": [],
   "source": [
    "query = \"\"\"\n",
    "PREFIX rdf: <http://www.w3.org/1999/02/22-rdf-syntax-ns#>\n",
    "PREFIX rdfs: <http://www.w3.org/2000/01/rdf-schema#>\n",
    "PREFIX owl: <http://www.w3.org/2002/07/owl#>\n",
    "PREFIX obo: <http://purl.obolibrary.org/obo/>\n",
    "PREFIX oboInOwl: <http://www.geneontology.org/formats/oboInOwl#>\n",
    "\n",
    "SELECT ?go_term ?label (GROUP_CONCAT(?alt_id; separator=\", \") AS ?alt_ids)\n",
    "WHERE {\n",
    "  ?go_term rdf:type owl:Class .\n",
    "  ?go_term rdfs:label ?label .\n",
    "  OPTIONAL {\n",
    "    ?go_term oboInOwl:id ?main_id .\n",
    "  }\n",
    "  OPTIONAL {\n",
    "    ?go_term oboInOwl:hasAlternativeId ?alt_id .\n",
    "  }\n",
    "}\n",
    "GROUP BY ?go_term ?label\n",
    "\"\"\"\n",
    "\n",
    "results = g.query(query)"
   ]
  },
  {
   "cell_type": "code",
   "execution_count": 16,
   "metadata": {},
   "outputs": [
    {
     "data": {
      "text/html": [
       "<div>\n",
       "<style scoped>\n",
       "    .dataframe tbody tr th:only-of-type {\n",
       "        vertical-align: middle;\n",
       "    }\n",
       "\n",
       "    .dataframe tbody tr th {\n",
       "        vertical-align: top;\n",
       "    }\n",
       "\n",
       "    .dataframe thead th {\n",
       "        text-align: right;\n",
       "    }\n",
       "</style>\n",
       "<table border=\"1\" class=\"dataframe\">\n",
       "  <thead>\n",
       "    <tr style=\"text-align: right;\">\n",
       "      <th></th>\n",
       "      <th>GO Term</th>\n",
       "      <th>GO Label</th>\n",
       "      <th>Alternative ID</th>\n",
       "    </tr>\n",
       "  </thead>\n",
       "  <tbody>\n",
       "    <tr>\n",
       "      <th>0</th>\n",
       "      <td>GO:0000001</td>\n",
       "      <td>mitochondrion inheritance</td>\n",
       "      <td>NaN</td>\n",
       "    </tr>\n",
       "    <tr>\n",
       "      <th>1</th>\n",
       "      <td>GO:0000002</td>\n",
       "      <td>mitochondrial genome maintenance</td>\n",
       "      <td>NaN</td>\n",
       "    </tr>\n",
       "    <tr>\n",
       "      <th>2</th>\n",
       "      <td>GO:0000003</td>\n",
       "      <td>obsolete reproduction</td>\n",
       "      <td>GO:0019952</td>\n",
       "    </tr>\n",
       "    <tr>\n",
       "      <th>3</th>\n",
       "      <td>GO:0000003</td>\n",
       "      <td>obsolete reproduction</td>\n",
       "      <td>GO:0050876</td>\n",
       "    </tr>\n",
       "    <tr>\n",
       "      <th>4</th>\n",
       "      <td>GO:0000005</td>\n",
       "      <td>obsolete ribosomal chaperone activity</td>\n",
       "      <td>NaN</td>\n",
       "    </tr>\n",
       "    <tr>\n",
       "      <th>...</th>\n",
       "      <td>...</td>\n",
       "      <td>...</td>\n",
       "      <td>...</td>\n",
       "    </tr>\n",
       "    <tr>\n",
       "      <th>49126</th>\n",
       "      <td>GO:2001313</td>\n",
       "      <td>UDP-4-deoxy-4-formamido-beta-L-arabinopyranose...</td>\n",
       "      <td>NaN</td>\n",
       "    </tr>\n",
       "    <tr>\n",
       "      <th>49127</th>\n",
       "      <td>GO:2001314</td>\n",
       "      <td>UDP-4-deoxy-4-formamido-beta-L-arabinopyranose...</td>\n",
       "      <td>NaN</td>\n",
       "    </tr>\n",
       "    <tr>\n",
       "      <th>49128</th>\n",
       "      <td>GO:2001315</td>\n",
       "      <td>UDP-4-deoxy-4-formamido-beta-L-arabinopyranose...</td>\n",
       "      <td>NaN</td>\n",
       "    </tr>\n",
       "    <tr>\n",
       "      <th>49129</th>\n",
       "      <td>GO:2001316</td>\n",
       "      <td>kojic acid metabolic process</td>\n",
       "      <td>NaN</td>\n",
       "    </tr>\n",
       "    <tr>\n",
       "      <th>49130</th>\n",
       "      <td>GO:2001317</td>\n",
       "      <td>kojic acid biosynthetic process</td>\n",
       "      <td>NaN</td>\n",
       "    </tr>\n",
       "  </tbody>\n",
       "</table>\n",
       "<p>49131 rows × 3 columns</p>\n",
       "</div>"
      ],
      "text/plain": [
       "          GO Term                                           GO Label  \\\n",
       "0      GO:0000001                          mitochondrion inheritance   \n",
       "1      GO:0000002                   mitochondrial genome maintenance   \n",
       "2      GO:0000003                              obsolete reproduction   \n",
       "3      GO:0000003                              obsolete reproduction   \n",
       "4      GO:0000005              obsolete ribosomal chaperone activity   \n",
       "...           ...                                                ...   \n",
       "49126  GO:2001313  UDP-4-deoxy-4-formamido-beta-L-arabinopyranose...   \n",
       "49127  GO:2001314  UDP-4-deoxy-4-formamido-beta-L-arabinopyranose...   \n",
       "49128  GO:2001315  UDP-4-deoxy-4-formamido-beta-L-arabinopyranose...   \n",
       "49129  GO:2001316                       kojic acid metabolic process   \n",
       "49130  GO:2001317                    kojic acid biosynthetic process   \n",
       "\n",
       "      Alternative ID  \n",
       "0                NaN  \n",
       "1                NaN  \n",
       "2         GO:0019952  \n",
       "3         GO:0050876  \n",
       "4                NaN  \n",
       "...              ...  \n",
       "49126            NaN  \n",
       "49127            NaN  \n",
       "49128            NaN  \n",
       "49129            NaN  \n",
       "49130            NaN  \n",
       "\n",
       "[49131 rows x 3 columns]"
      ]
     },
     "execution_count": 16,
     "metadata": {},
     "output_type": "execute_result"
    }
   ],
   "source": [
    "data = []\n",
    "for row in results:\n",
    "    data.append({\n",
    "        \"GO Term\": str(row.go_term),\n",
    "        \"Label\": str(row.label),\n",
    "        \"Alternative IDs\": str(row.alt_ids) if row.alt_ids else None,\n",
    "    })\n",
    "\n",
    "go_df = pd.DataFrame(data)\n",
    "\n",
    "go_df[\"GO Term\"] = go_df[\"GO Term\"].apply(lambda x: x.split(\"/\")[-1].replace(\"_\", \":\"))\n",
    "go_df[\"Alternative IDs\"] = go_df[\"Alternative IDs\"].apply(lambda x: x.split(\", \") if pd.notnull(x) else [])\n",
    "go_df = go_df.explode(\"Alternative IDs\", ignore_index=True)\n",
    "go_df.rename(columns={\"Label\":\"GO Label\", \"Alternative IDs\":\"Alternative ID\"}, inplace=True)\n",
    "\n",
    "go_df.to_csv(\"go_term_label.tsv\", sep=\"\\t\", index=False)\n",
    "go_df"
   ]
  }
 ],
 "metadata": {
  "kernelspec": {
   "display_name": "master",
   "language": "python",
   "name": "python3"
  },
  "language_info": {
   "codemirror_mode": {
    "name": "ipython",
    "version": 3
   },
   "file_extension": ".py",
   "mimetype": "text/x-python",
   "name": "python",
   "nbconvert_exporter": "python",
   "pygments_lexer": "ipython3",
   "version": "3.11.9"
  }
 },
 "nbformat": 4,
 "nbformat_minor": 2
}
