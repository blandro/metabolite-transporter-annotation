{
 "cells": [
  {
   "cell_type": "markdown",
   "metadata": {},
   "source": [
    "Trying to map UniProt accession to all its GO-terms, in order to construct the main DF from TCDB"
   ]
  },
  {
   "cell_type": "code",
   "execution_count": 2,
   "metadata": {},
   "outputs": [],
   "source": [
    "import pandas as pd"
   ]
  },
  {
   "cell_type": "code",
   "execution_count": null,
   "metadata": {},
   "outputs": [
    {
     "data": {
      "text/html": [
       "<div>\n",
       "<style scoped>\n",
       "    .dataframe tbody tr th:only-of-type {\n",
       "        vertical-align: middle;\n",
       "    }\n",
       "\n",
       "    .dataframe tbody tr th {\n",
       "        vertical-align: top;\n",
       "    }\n",
       "\n",
       "    .dataframe thead th {\n",
       "        text-align: right;\n",
       "    }\n",
       "</style>\n",
       "<table border=\"1\" class=\"dataframe\">\n",
       "  <thead>\n",
       "    <tr style=\"text-align: right;\">\n",
       "      <th></th>\n",
       "      <th>protein</th>\n",
       "      <th>go</th>\n",
       "      <th>go_label</th>\n",
       "    </tr>\n",
       "  </thead>\n",
       "  <tbody>\n",
       "    <tr>\n",
       "      <th>0</th>\n",
       "      <td>Q51858</td>\n",
       "      <td>GO_0005524</td>\n",
       "      <td>ATP binding</td>\n",
       "    </tr>\n",
       "    <tr>\n",
       "      <th>1</th>\n",
       "      <td>Q51858</td>\n",
       "      <td>GO_0016887</td>\n",
       "      <td>ATP hydrolysis activity</td>\n",
       "    </tr>\n",
       "    <tr>\n",
       "      <th>2</th>\n",
       "      <td>Q9LBE7</td>\n",
       "      <td>GO_0005829</td>\n",
       "      <td>cytosol</td>\n",
       "    </tr>\n",
       "    <tr>\n",
       "      <th>3</th>\n",
       "      <td>Q9LBE7</td>\n",
       "      <td>GO_0042132</td>\n",
       "      <td>fructose 1,6-bisphosphate 1-phosphatase activity</td>\n",
       "    </tr>\n",
       "    <tr>\n",
       "      <th>4</th>\n",
       "      <td>Q9LBE7</td>\n",
       "      <td>GO_0000287</td>\n",
       "      <td>magnesium ion binding</td>\n",
       "    </tr>\n",
       "    <tr>\n",
       "      <th>...</th>\n",
       "      <td>...</td>\n",
       "      <td>...</td>\n",
       "      <td>...</td>\n",
       "    </tr>\n",
       "    <tr>\n",
       "      <th>3394769</th>\n",
       "      <td>A9UP22</td>\n",
       "      <td>GO_0070545</td>\n",
       "      <td>PeBoW complex</td>\n",
       "    </tr>\n",
       "    <tr>\n",
       "      <th>3394770</th>\n",
       "      <td>A9UP22</td>\n",
       "      <td>GO_0030687</td>\n",
       "      <td>preribosome, large subunit precursor</td>\n",
       "    </tr>\n",
       "    <tr>\n",
       "      <th>3394771</th>\n",
       "      <td>A9UP22</td>\n",
       "      <td>GO_0043021</td>\n",
       "      <td>ribonucleoprotein complex binding</td>\n",
       "    </tr>\n",
       "    <tr>\n",
       "      <th>3394772</th>\n",
       "      <td>A9UP22</td>\n",
       "      <td>GO_0000466</td>\n",
       "      <td>maturation of 5.8S rRNA from tricistronic rRNA...</td>\n",
       "    </tr>\n",
       "    <tr>\n",
       "      <th>3394773</th>\n",
       "      <td>A9UP22</td>\n",
       "      <td>GO_0000463</td>\n",
       "      <td>maturation of LSU-rRNA from tricistronic rRNA ...</td>\n",
       "    </tr>\n",
       "  </tbody>\n",
       "</table>\n",
       "<p>3394774 rows × 3 columns</p>\n",
       "</div>"
      ],
      "text/plain": [
       "        protein          go                                           go_label\n",
       "0        Q51858  GO_0005524                                        ATP binding\n",
       "1        Q51858  GO_0016887                            ATP hydrolysis activity\n",
       "2        Q9LBE7  GO_0005829                                            cytosol\n",
       "3        Q9LBE7  GO_0042132   fructose 1,6-bisphosphate 1-phosphatase activity\n",
       "4        Q9LBE7  GO_0000287                              magnesium ion binding\n",
       "...         ...         ...                                                ...\n",
       "3394769  A9UP22  GO_0070545                                      PeBoW complex\n",
       "3394770  A9UP22  GO_0030687               preribosome, large subunit precursor\n",
       "3394771  A9UP22  GO_0043021                  ribonucleoprotein complex binding\n",
       "3394772  A9UP22  GO_0000466  maturation of 5.8S rRNA from tricistronic rRNA...\n",
       "3394773  A9UP22  GO_0000463  maturation of LSU-rRNA from tricistronic rRNA ...\n",
       "\n",
       "[3394774 rows x 3 columns]"
      ]
     },
     "execution_count": 10,
     "metadata": {},
     "output_type": "execute_result"
    }
   ],
   "source": [
    "df = pd.read_csv(\"uniGO.tsv\", sep='\\t')\n",
    "df_reordered = df[['protein', 'go', 'label']]\n",
    "df_reordered.rename(columns={'label':'go_label'}, inplace=True)\n",
    "df_reordered"
   ]
  }
 ],
 "metadata": {
  "kernelspec": {
   "display_name": "master",
   "language": "python",
   "name": "python3"
  },
  "language_info": {
   "codemirror_mode": {
    "name": "ipython",
    "version": 3
   },
   "file_extension": ".py",
   "mimetype": "text/x-python",
   "name": "python",
   "nbconvert_exporter": "python",
   "pygments_lexer": "ipython3",
   "version": "3.11.9"
  }
 },
 "nbformat": 4,
 "nbformat_minor": 2
}
