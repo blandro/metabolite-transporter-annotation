{
 "cells": [
  {
   "cell_type": "markdown",
   "metadata": {},
   "source": [
    "**Obtain primary ChEBI IDs**\n",
    "\n",
    "The secondary IDs have shown to become a hassle because they create a mess when trying to merge different dfs when oe containts primary and the other contains secondary ChEBI ID. This is an attempt at grouping all the secondary IDs to their primary, and subsequently changing every ID in the filtered list to primary. Will do the same for the data from TCDB eventually."
   ]
  },
  {
   "cell_type": "code",
   "execution_count": 1,
   "metadata": {},
   "outputs": [],
   "source": [
    "import pandas as pd\n",
    "from rdkit import Chem, RDLogger"
   ]
  },
  {
   "cell_type": "markdown",
   "metadata": {},
   "source": [
    "Using the ChEBI_complete_3star.sdf from https://www.ebi.ac.uk/chebi/downloadsForward.do"
   ]
  },
  {
   "cell_type": "code",
   "execution_count": 18,
   "metadata": {},
   "outputs": [
    {
     "name": "stdout",
     "output_type": "stream",
     "text": [
      "Successfully processed molecules: 52172\n",
      "Molecules skipped due to errors: 0\n"
     ]
    },
    {
     "data": {
      "text/html": [
       "<div>\n",
       "<style scoped>\n",
       "    .dataframe tbody tr th:only-of-type {\n",
       "        vertical-align: middle;\n",
       "    }\n",
       "\n",
       "    .dataframe tbody tr th {\n",
       "        vertical-align: top;\n",
       "    }\n",
       "\n",
       "    .dataframe thead th {\n",
       "        text-align: right;\n",
       "    }\n",
       "</style>\n",
       "<table border=\"1\" class=\"dataframe\">\n",
       "  <thead>\n",
       "    <tr style=\"text-align: right;\">\n",
       "      <th></th>\n",
       "      <th>Primary_CHEBI_ID</th>\n",
       "      <th>Secondary_CHEBI_IDs</th>\n",
       "    </tr>\n",
       "  </thead>\n",
       "  <tbody>\n",
       "    <tr>\n",
       "      <th>0</th>\n",
       "      <td>90</td>\n",
       "      <td>[18484]</td>\n",
       "    </tr>\n",
       "    <tr>\n",
       "      <th>1</th>\n",
       "      <td>165</td>\n",
       "      <td>[63901]</td>\n",
       "    </tr>\n",
       "    <tr>\n",
       "      <th>2</th>\n",
       "      <td>598</td>\n",
       "      <td>[19009]</td>\n",
       "    </tr>\n",
       "    <tr>\n",
       "      <th>3</th>\n",
       "      <td>776</td>\n",
       "      <td>[60497]</td>\n",
       "    </tr>\n",
       "    <tr>\n",
       "      <th>4</th>\n",
       "      <td>943</td>\n",
       "      <td>[73174]</td>\n",
       "    </tr>\n",
       "    <tr>\n",
       "      <th>...</th>\n",
       "      <td>...</td>\n",
       "      <td>...</td>\n",
       "    </tr>\n",
       "    <tr>\n",
       "      <th>52167</th>\n",
       "      <td>691037</td>\n",
       "      <td>[]</td>\n",
       "    </tr>\n",
       "    <tr>\n",
       "      <th>52168</th>\n",
       "      <td>691622</td>\n",
       "      <td>[]</td>\n",
       "    </tr>\n",
       "    <tr>\n",
       "      <th>52169</th>\n",
       "      <td>724125</td>\n",
       "      <td>[]</td>\n",
       "    </tr>\n",
       "    <tr>\n",
       "      <th>52170</th>\n",
       "      <td>741548</td>\n",
       "      <td>[]</td>\n",
       "    </tr>\n",
       "    <tr>\n",
       "      <th>52171</th>\n",
       "      <td>746859</td>\n",
       "      <td>[]</td>\n",
       "    </tr>\n",
       "  </tbody>\n",
       "</table>\n",
       "<p>52172 rows × 2 columns</p>\n",
       "</div>"
      ],
      "text/plain": [
       "      Primary_CHEBI_ID Secondary_CHEBI_IDs\n",
       "0                   90             [18484]\n",
       "1                  165             [63901]\n",
       "2                  598             [19009]\n",
       "3                  776             [60497]\n",
       "4                  943             [73174]\n",
       "...                ...                 ...\n",
       "52167           691037                  []\n",
       "52168           691622                  []\n",
       "52169           724125                  []\n",
       "52170           741548                  []\n",
       "52171           746859                  []\n",
       "\n",
       "[52172 rows x 2 columns]"
      ]
     },
     "execution_count": 18,
     "metadata": {},
     "output_type": "execute_result"
    }
   ],
   "source": [
    "sdf_path = \"ChEBI_complete_3star.sdf\"\n",
    "supplier = Chem.SDMolSupplier(sdf_path)\n",
    "\n",
    "data = []\n",
    "error_count = 0\n",
    "\n",
    "for mol in supplier:\n",
    "    if mol is not None:\n",
    "        try:\n",
    "\n",
    "            if mol.HasProp(\"ChEBI ID\"):\n",
    "                primary_id = mol.GetProp(\"ChEBI ID\").split(\":\")[1]\n",
    "            else:\n",
    "                primary_id = None\n",
    "\n",
    "            if mol.HasProp(\"Secondary ChEBI ID\"):\n",
    "                secondary_ids = [sid.split(\":\")[1] for sid in mol.GetProp(\"Secondary ChEBI ID\").splitlines()]\n",
    "            else:\n",
    "                secondary_ids = []\n",
    "\n",
    "            data.append({\n",
    "                \"Primary_CHEBI_ID\": primary_id,\n",
    "                \"Secondary_CHEBI_IDs\": secondary_ids\n",
    "            })\n",
    "        except Exception as e:\n",
    "            error_count += 1\n",
    "\n",
    "df = pd.DataFrame(data)\n",
    "\n",
    "print(f\"Successfully processed molecules: {len(df)}\")\n",
    "print(f\"Molecules skipped due to errors: {error_count}\")\n",
    "\n",
    "df.to_csv(\"primary_secondary_chebi_ids.tsv\", sep=\"\\t\", index=False)\n",
    "\n",
    "df"
   ]
  }
 ],
 "metadata": {
  "kernelspec": {
   "display_name": "master",
   "language": "python",
   "name": "python3"
  },
  "language_info": {
   "codemirror_mode": {
    "name": "ipython",
    "version": 3
   },
   "file_extension": ".py",
   "mimetype": "text/x-python",
   "name": "python",
   "nbconvert_exporter": "python",
   "pygments_lexer": "ipython3",
   "version": "3.11.9"
  }
 },
 "nbformat": 4,
 "nbformat_minor": 2
}
