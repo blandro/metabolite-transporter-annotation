{
 "cells": [
  {
   "cell_type": "markdown",
   "id": "8b1e72fe-978f-45cd-8a21-35d6080e452e",
   "metadata": {},
   "source": [
    "# notebook to extract chebi data and hierarchies "
   ]
  },
  {
   "cell_type": "code",
   "execution_count": 1,
   "id": "a4e97d70-71d6-4a39-b525-65cca35ce2de",
   "metadata": {},
   "outputs": [],
   "source": [
    "import rdflib\n",
    "import pandas as pd\n",
    "import gzip"
   ]
  },
  {
   "cell_type": "markdown",
   "id": "df91ac45-9cba-446c-8cf3-2346de25b26b",
   "metadata": {},
   "source": [
    "ChEBI database obtained from the owl onthology file\n",
    "\n",
    "https://www.ebi.ac.uk/chebi/downloadsForward.do\n",
    "\n",
    "release from 2024-08-01"
   ]
  },
  {
   "cell_type": "code",
   "execution_count": 4,
   "id": "e07a33f6-6d2f-4e72-bfcb-c0b7313dbc7e",
   "metadata": {},
   "outputs": [
    {
     "data": {
      "text/plain": [
       "<Graph identifier=N9bb99d134e554131b146d81dbaf7ba8b (<class 'rdflib.graph.Graph'>)>"
      ]
     },
     "execution_count": 4,
     "metadata": {},
     "output_type": "execute_result"
    }
   ],
   "source": [
    "CHEBI = f'chebi.owl'\n",
    "c=rdflib.Graph()\n",
    "c.parse(CHEBI,format='xml')"
   ]
  },
  {
   "cell_type": "markdown",
   "id": "fe629317-d2d9-45c6-8336-c9b62998f230",
   "metadata": {},
   "source": [
    "### ChEBI dataframe"
   ]
  },
  {
   "cell_type": "code",
   "execution_count": 7,
   "id": "21d58d57-c092-4e10-98c9-c2f4b3717d92",
   "metadata": {},
   "outputs": [
    {
     "data": {
      "text/html": [
       "<div>\n",
       "<style scoped>\n",
       "    .dataframe tbody tr th:only-of-type {\n",
       "        vertical-align: middle;\n",
       "    }\n",
       "\n",
       "    .dataframe tbody tr th {\n",
       "        vertical-align: top;\n",
       "    }\n",
       "\n",
       "    .dataframe thead th {\n",
       "        text-align: right;\n",
       "    }\n",
       "</style>\n",
       "<table border=\"1\" class=\"dataframe\">\n",
       "  <thead>\n",
       "    <tr style=\"text-align: right;\">\n",
       "      <th></th>\n",
       "      <th>charge</th>\n",
       "      <th>chebi</th>\n",
       "      <th>formula</th>\n",
       "      <th>inchi</th>\n",
       "      <th>inchikey</th>\n",
       "      <th>label</th>\n",
       "      <th>mass</th>\n",
       "      <th>smiles</th>\n",
       "    </tr>\n",
       "  </thead>\n",
       "  <tbody>\n",
       "    <tr>\n",
       "      <th>0</th>\n",
       "      <td>0</td>\n",
       "      <td>http://purl.obolibrary.org/obo/CHEBI_10</td>\n",
       "      <td>C36H38N2O6</td>\n",
       "      <td>InChI=1S/C36H38N2O6/c1-37-13-11-23-18-31(41-3)...</td>\n",
       "      <td>XGEAUXVPBXUBKN-NSOVKSMOSA-N</td>\n",
       "      <td>(+)-Atherospermoline</td>\n",
       "      <td>594.698</td>\n",
       "      <td>COc1cc2CCN(C)[C@H]3Cc4ccc(Oc5cc(C[C@@H]6N(C)CC...</td>\n",
       "    </tr>\n",
       "    <tr>\n",
       "      <th>1</th>\n",
       "      <td>0</td>\n",
       "      <td>http://purl.obolibrary.org/obo/CHEBI_100</td>\n",
       "      <td>C16H14O4</td>\n",
       "      <td>InChI=1S/C16H14O4/c1-18-10-3-5-11-13-8-19-14-6...</td>\n",
       "      <td>NSRJSISNDPOJOP-BBRMVZONSA-N</td>\n",
       "      <td>(-)-medicarpin</td>\n",
       "      <td>270.27996</td>\n",
       "      <td>[H][C@@]12COc3cc(O)ccc3[C@]1([H])Oc1cc(OC)ccc21</td>\n",
       "    </tr>\n",
       "    <tr>\n",
       "      <th>2</th>\n",
       "      <td>0</td>\n",
       "      <td>http://purl.obolibrary.org/obo/CHEBI_10000</td>\n",
       "      <td>C25H30O5</td>\n",
       "      <td>InChI=1S/C25H30O5/c1-15(2)6-5-7-16(3)8-9-30-19...</td>\n",
       "      <td>KZPCPZBBGCTGCN-LZYBPNLTSA-N</td>\n",
       "      <td>Vismione D</td>\n",
       "      <td>410.504</td>\n",
       "      <td>CC(C)=CCC\\C(C)=C\\COc1cc(O)c2c(O)c3C(=O)CC(C)(O...</td>\n",
       "    </tr>\n",
       "    <tr>\n",
       "      <th>3</th>\n",
       "      <td>0</td>\n",
       "      <td>http://purl.obolibrary.org/obo/CHEBI_100000</td>\n",
       "      <td>C22H26N2O3</td>\n",
       "      <td>InChI=1S/C22H26N2O3/c1-27-15-21(26)24-19(13-23...</td>\n",
       "      <td>FOQJOAXBJHEYGA-URVUXULASA-N</td>\n",
       "      <td>(2S,3S,4R)-3-[4-(3-cyclopentylprop-1-ynyl)phen...</td>\n",
       "      <td>366.454</td>\n",
       "      <td>COCC(=O)N1[C@H]([C@H]([C@H]1C#N)C2=CC=C(C=C2)C...</td>\n",
       "    </tr>\n",
       "    <tr>\n",
       "      <th>4</th>\n",
       "      <td>0</td>\n",
       "      <td>http://purl.obolibrary.org/obo/CHEBI_100001</td>\n",
       "      <td>C22H25F3N4O4</td>\n",
       "      <td>InChI=1S/C22H25F3N4O4/c23-22(24,25)15-3-5-16(6...</td>\n",
       "      <td>JHFKDWZHMFMOKL-QYZOEREBSA-N</td>\n",
       "      <td>N-[(2R,3S,6R)-2-(hydroxymethyl)-6-[2-[[oxo-[4-...</td>\n",
       "      <td>466.454</td>\n",
       "      <td>C1C[C@@H]([C@@H](O[C@H]1CCNC(=O)NC2=CC=C(C=C2)...</td>\n",
       "    </tr>\n",
       "  </tbody>\n",
       "</table>\n",
       "</div>"
      ],
      "text/plain": [
       "  charge                                        chebi       formula  \\\n",
       "0      0      http://purl.obolibrary.org/obo/CHEBI_10    C36H38N2O6   \n",
       "1      0     http://purl.obolibrary.org/obo/CHEBI_100      C16H14O4   \n",
       "2      0   http://purl.obolibrary.org/obo/CHEBI_10000      C25H30O5   \n",
       "3      0  http://purl.obolibrary.org/obo/CHEBI_100000    C22H26N2O3   \n",
       "4      0  http://purl.obolibrary.org/obo/CHEBI_100001  C22H25F3N4O4   \n",
       "\n",
       "                                               inchi  \\\n",
       "0  InChI=1S/C36H38N2O6/c1-37-13-11-23-18-31(41-3)...   \n",
       "1  InChI=1S/C16H14O4/c1-18-10-3-5-11-13-8-19-14-6...   \n",
       "2  InChI=1S/C25H30O5/c1-15(2)6-5-7-16(3)8-9-30-19...   \n",
       "3  InChI=1S/C22H26N2O3/c1-27-15-21(26)24-19(13-23...   \n",
       "4  InChI=1S/C22H25F3N4O4/c23-22(24,25)15-3-5-16(6...   \n",
       "\n",
       "                      inchikey  \\\n",
       "0  XGEAUXVPBXUBKN-NSOVKSMOSA-N   \n",
       "1  NSRJSISNDPOJOP-BBRMVZONSA-N   \n",
       "2  KZPCPZBBGCTGCN-LZYBPNLTSA-N   \n",
       "3  FOQJOAXBJHEYGA-URVUXULASA-N   \n",
       "4  JHFKDWZHMFMOKL-QYZOEREBSA-N   \n",
       "\n",
       "                                               label       mass  \\\n",
       "0                               (+)-Atherospermoline    594.698   \n",
       "1                                     (-)-medicarpin  270.27996   \n",
       "2                                         Vismione D    410.504   \n",
       "3  (2S,3S,4R)-3-[4-(3-cyclopentylprop-1-ynyl)phen...    366.454   \n",
       "4  N-[(2R,3S,6R)-2-(hydroxymethyl)-6-[2-[[oxo-[4-...    466.454   \n",
       "\n",
       "                                              smiles  \n",
       "0  COc1cc2CCN(C)[C@H]3Cc4ccc(Oc5cc(C[C@@H]6N(C)CC...  \n",
       "1    [H][C@@]12COc3cc(O)ccc3[C@]1([H])Oc1cc(OC)ccc21  \n",
       "2  CC(C)=CCC\\C(C)=C\\COc1cc(O)c2c(O)c3C(=O)CC(C)(O...  \n",
       "3  COCC(=O)N1[C@H]([C@H]([C@H]1C#N)C2=CC=C(C=C2)C...  \n",
       "4  C1C[C@@H]([C@@H](O[C@H]1CCNC(=O)NC2=CC=C(C=C2)...  "
      ]
     },
     "execution_count": 7,
     "metadata": {},
     "output_type": "execute_result"
    }
   ],
   "source": [
    "query=\"\"\"\n",
    "PREFIX rdf: <http://www.w3.org/1999/02/22-rdf-syntax-ns#>\n",
    "PREFIX chebi: <http://purl.obolibrary.org/obo/chebi/>\n",
    "PREFIX rdfs: <http://www.w3.org/2000/01/rdf-schema#>\n",
    "PREFIX owl: <http://www.w3.org/2002/07/owl#>\n",
    "\n",
    "SELECT ?chebi ?charge ?smiles ?inchi ?inchikey ?label ?formula ?mass \n",
    "WHERE {\n",
    "  ?chebi chebi:charge ?charge .\n",
    "  ?chebi chebi:formula ?formula .\n",
    "  ?chebi chebi:smiles ?smiles .\n",
    "  ?chebi chebi:inchi ?inchi .\n",
    "  ?chebi chebi:inchikey ?inchikey .\n",
    "  ?chebi chebi:mass ?mass .\n",
    "  ?chebi rdfs:label ?label \n",
    "}\n",
    "\"\"\"\n",
    "result = c.query(query)\n",
    "chebi_df = pd.DataFrame(result.bindings).applymap(str).rename(columns=str)\n",
    "chebi_df = chebi_df.drop_duplicates(ignore_index=True)\n",
    "chebi_df.head()"
   ]
  },
  {
   "cell_type": "code",
   "execution_count": 11,
   "id": "44af1ad9-c90c-40a3-8487-957ae3ba2b3c",
   "metadata": {},
   "outputs": [
    {
     "data": {
      "text/plain": [
       "(178148, 8)"
      ]
     },
     "execution_count": 11,
     "metadata": {},
     "output_type": "execute_result"
    }
   ],
   "source": [
    "chebi_df.shape"
   ]
  },
  {
   "cell_type": "code",
   "execution_count": 19,
   "id": "86a5a948-0eb3-4da4-afaa-9d480568259f",
   "metadata": {},
   "outputs": [],
   "source": [
    "with gzip.open('chebiDf.tsv.gz', 'wb') as f:\n",
    "    chebi_df.to_csv(f,sep='\\t',index=False)"
   ]
  },
  {
   "cell_type": "markdown",
   "id": "db987aff-29cf-47a7-9e7a-ec7f4bbe2e4e",
   "metadata": {},
   "source": [
    "### ChEBI hierarchy"
   ]
  },
  {
   "cell_type": "code",
   "execution_count": 8,
   "id": "187f8096-d3a0-4dd8-aefa-cb2fff6806b0",
   "metadata": {},
   "outputs": [
    {
     "data": {
      "text/html": [
       "<div>\n",
       "<style scoped>\n",
       "    .dataframe tbody tr th:only-of-type {\n",
       "        vertical-align: middle;\n",
       "    }\n",
       "\n",
       "    .dataframe tbody tr th {\n",
       "        vertical-align: top;\n",
       "    }\n",
       "\n",
       "    .dataframe thead th {\n",
       "        text-align: right;\n",
       "    }\n",
       "</style>\n",
       "<table border=\"1\" class=\"dataframe\">\n",
       "  <thead>\n",
       "    <tr style=\"text-align: right;\">\n",
       "      <th></th>\n",
       "      <th>child</th>\n",
       "      <th>parent</th>\n",
       "    </tr>\n",
       "  </thead>\n",
       "  <tbody>\n",
       "    <tr>\n",
       "      <th>0</th>\n",
       "      <td>http://purl.obolibrary.org/obo/CHEBI_10</td>\n",
       "      <td>http://purl.obolibrary.org/obo/CHEBI_133004</td>\n",
       "    </tr>\n",
       "    <tr>\n",
       "      <th>1</th>\n",
       "      <td>http://purl.obolibrary.org/obo/CHEBI_11</td>\n",
       "      <td>http://purl.obolibrary.org/obo/CHEBI_133004</td>\n",
       "    </tr>\n",
       "    <tr>\n",
       "      <th>2</th>\n",
       "      <td>http://purl.obolibrary.org/obo/CHEBI_132893</td>\n",
       "      <td>http://purl.obolibrary.org/obo/CHEBI_133004</td>\n",
       "    </tr>\n",
       "    <tr>\n",
       "      <th>3</th>\n",
       "      <td>http://purl.obolibrary.org/obo/CHEBI_132895</td>\n",
       "      <td>http://purl.obolibrary.org/obo/CHEBI_133004</td>\n",
       "    </tr>\n",
       "    <tr>\n",
       "      <th>4</th>\n",
       "      <td>http://purl.obolibrary.org/obo/CHEBI_16777</td>\n",
       "      <td>http://purl.obolibrary.org/obo/CHEBI_133004</td>\n",
       "    </tr>\n",
       "  </tbody>\n",
       "</table>\n",
       "</div>"
      ],
      "text/plain": [
       "                                         child  \\\n",
       "0      http://purl.obolibrary.org/obo/CHEBI_10   \n",
       "1      http://purl.obolibrary.org/obo/CHEBI_11   \n",
       "2  http://purl.obolibrary.org/obo/CHEBI_132893   \n",
       "3  http://purl.obolibrary.org/obo/CHEBI_132895   \n",
       "4   http://purl.obolibrary.org/obo/CHEBI_16777   \n",
       "\n",
       "                                        parent  \n",
       "0  http://purl.obolibrary.org/obo/CHEBI_133004  \n",
       "1  http://purl.obolibrary.org/obo/CHEBI_133004  \n",
       "2  http://purl.obolibrary.org/obo/CHEBI_133004  \n",
       "3  http://purl.obolibrary.org/obo/CHEBI_133004  \n",
       "4  http://purl.obolibrary.org/obo/CHEBI_133004  "
      ]
     },
     "execution_count": 8,
     "metadata": {},
     "output_type": "execute_result"
    }
   ],
   "source": [
    "query=\"\"\"\n",
    "PREFIX rdf: <http://www.w3.org/1999/02/22-rdf-syntax-ns#>\n",
    "PREFIX chebi: <http://purl.obolibrary.org/obo/chebi/>\n",
    "PREFIX rdfs: <http://www.w3.org/2000/01/rdf-schema#>\n",
    "PREFIX owl: <http://www.w3.org/2002/07/owl#>\n",
    "\n",
    "SELECT ?child ?parent\n",
    "WHERE {\n",
    "  OPTIONAL { ?child rdfs:subClassOf ?parent }\n",
    "}\n",
    "\"\"\"\n",
    "h1 = c.query(query)\n",
    "h1 = pd.DataFrame(h1.bindings).applymap(str).rename(columns=str)\n",
    "h1=h1[h1['child'].apply(lambda x: 'CHEBI' in x )]\n",
    "h1=h1[h1['parent'].apply(lambda x: 'CHEBI' in x )]\n",
    "h1 = h1.drop_duplicates(ignore_index=True)\n",
    "h1.head()"
   ]
  },
  {
   "cell_type": "code",
   "execution_count": 10,
   "id": "98fcf7b0-5041-4c7a-a37f-686d8f0dde08",
   "metadata": {},
   "outputs": [
    {
     "data": {
      "text/plain": [
       "(279063, 2)"
      ]
     },
     "execution_count": 10,
     "metadata": {},
     "output_type": "execute_result"
    }
   ],
   "source": [
    "h1.shape"
   ]
  },
  {
   "cell_type": "code",
   "execution_count": 23,
   "id": "03547487-c532-446c-924e-361a7c68fcc9",
   "metadata": {},
   "outputs": [],
   "source": [
    "with gzip.open('chebiHierarchy.tsv.gz', 'wb') as f:\n",
    "    h1.to_csv(f,sep='\\t',index=False)"
   ]
  },
  {
   "cell_type": "code",
   "execution_count": null,
   "id": "2e479754-13a9-4e85-8825-ed54a7e911a1",
   "metadata": {},
   "outputs": [],
   "source": []
  }
 ],
 "metadata": {
  "kernelspec": {
   "display_name": "master",
   "language": "python",
   "name": "python3"
  },
  "language_info": {
   "codemirror_mode": {
    "name": "ipython",
    "version": 3
   },
   "file_extension": ".py",
   "mimetype": "text/x-python",
   "name": "python",
   "nbconvert_exporter": "python",
   "pygments_lexer": "ipython3",
   "version": "3.11.9"
  }
 },
 "nbformat": 4,
 "nbformat_minor": 5
}
