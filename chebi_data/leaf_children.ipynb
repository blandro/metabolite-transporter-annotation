{
 "cells": [
  {
   "cell_type": "code",
   "execution_count": 1,
   "metadata": {},
   "outputs": [],
   "source": [
    "import pandas as pd"
   ]
  },
  {
   "cell_type": "markdown",
   "metadata": {},
   "source": [
    "First of, import the CHEBI-hierarchy and the TCDB dfs"
   ]
  },
  {
   "cell_type": "code",
   "execution_count": 9,
   "metadata": {},
   "outputs": [],
   "source": [
    "df_hierarchy = pd.read_csv(\"chebiHierarchy.tsv\", sep=\"\\t\")\n",
    "df_hierarchy['child'] = df_hierarchy['child'].str.extract(r'CHEBI_(\\d+)').astype(int)\n",
    "df_hierarchy['parent'] = df_hierarchy['parent'].str.extract(r'CHEBI_(\\d+)').astype(int)\n",
    "all_parents = set(df_hierarchy[\"parent\"])\n",
    "\n",
    "df_tcdb = pd.read_csv(\"../main_retry/tcdb_data_combined.csv\")\n",
    "all_chebi_tcdb = set(df_tcdb[\"CHEBI IDs\"].unique())"
   ]
  },
  {
   "cell_type": "markdown",
   "metadata": {},
   "source": [
    "Transformation from primary/secondary ChEBI ID to primary ID"
   ]
  },
  {
   "cell_type": "code",
   "execution_count": 10,
   "metadata": {},
   "outputs": [],
   "source": [
    "prim_sec_chebi = pd.read_csv(\"primary_secondary_chebi_ids.tsv\", sep=\"\\t\")\n",
    "secondary_to_primary =  {}\n",
    "\n",
    "for _, row in prim_sec_chebi.iterrows():\n",
    "    primary_id = int(row[\"Primary_CHEBI_ID\"])\n",
    "    secondary_ids = eval(row[\"Secondary_CHEBI_IDs\"])\n",
    "    \n",
    "    for s_id in secondary_ids:\n",
    "        secondary_to_primary[s_id] = primary_id\n",
    "\n",
    "def get_primary_id(chebi_id):\n",
    "    chebi_id = int(chebi_id)\n",
    "    return secondary_to_primary.get(str(chebi_id), chebi_id)"
   ]
  },
  {
   "cell_type": "code",
   "execution_count": 11,
   "metadata": {},
   "outputs": [],
   "source": [
    "all_primary_chebi_tcdb = set([get_primary_id(el) for el in all_chebi_tcdb])\n",
    "\n",
    "df_hierarchy_prim = df_hierarchy.copy()\n",
    "df_hierarchy_prim[\"child\"] = df_hierarchy[\"child\"].apply(get_primary_id)\n",
    "df_hierarchy_prim[\"parent\"] = df_hierarchy[\"parent\"].apply(get_primary_id)\n",
    "\n",
    "all_children = df_hierarchy_prim[\"child\"].unique().tolist()\n",
    "not_in_hierarchy = [id for id in all_primary_chebi_tcdb if id not in all_children]"
   ]
  },
  {
   "cell_type": "markdown",
   "metadata": {},
   "source": [
    "*Method 1*\n",
    "\n",
    "Filter out all ChEBIs that are not leaf nodes."
   ]
  },
  {
   "cell_type": "code",
   "execution_count": null,
   "metadata": {},
   "outputs": [
    {
     "name": "stdout",
     "output_type": "stream",
     "text": [
      "There are 187792 leaf nodes.\n",
      "The original set of ChEBIs from TCDB contains 1524 elements.\n",
      "The leaf nodes and the IDs from TCDB have 941 IDs in common.\n",
      "This means that there are 583 IDs that are parents or not listed in the hierarchy\n",
      "There are 86 IDs not in hierarchy and 497 IDs that are parents.\n",
      "As seen below, some of the 497 ChEBIs that either are a parent or not in the hierarchy are caught with Method 2.\n"
     ]
    }
   ],
   "source": [
    "df_filtered = df_hierarchy_prim[~df_hierarchy_prim[\"child\"].isin(all_parents)]\n",
    "leaf_nodes = df_filtered[\"child\"].unique().tolist()\n",
    "\n",
    "# Just a curiosity here\n",
    "common_children = [id for id in all_primary_chebi_tcdb if id in leaf_nodes]\n",
    "\n",
    "print(f\"There are {len(leaf_nodes)} leaf nodes.\\nThe original set of ChEBIs from TCDB contains {len(all_primary_chebi_tcdb)} elements.\")\n",
    "print(f\"The leaf nodes and the IDs from TCDB have {len(common_children)} IDs in common.\")\n",
    "print(f\"This means that there are {len(all_primary_chebi_tcdb)-len(common_children)} IDs that are parents or not listed in the hierarchy\")\n",
    "print(f\"There are {len(not_in_hierarchy)} IDs not in hierarchy and {len(all_primary_chebi_tcdb)-len(common_children)-len(not_in_hierarchy)} IDs that are parents.\")\n",
    "print(f\"As seen below, some of the {len(all_primary_chebi_tcdb)-len(common_children)-len(not_in_hierarchy)} ChEBIs that either are a parent or not in the hierarchy are caught with Method 2.\")"
   ]
  },
  {
   "cell_type": "markdown",
   "metadata": {},
   "source": [
    "*Method 2*\n",
    "\n",
    "Take the ChEBIs from TCDB, remove the ones not in the hierarchy, and kill all that have children, if their children are on TCDB too.\n",
    "\n",
    "Only in this method is conversion needed, as this combines both the tcdb and chebi data."
   ]
  },
  {
   "cell_type": "code",
   "execution_count": null,
   "metadata": {},
   "outputs": [
    {
     "name": "stdout",
     "output_type": "stream",
     "text": [
      "Now, there are 1326 IDs in the filter.\n",
      "This method only removes 198 from the original set of 1524 IDs.\n",
      "This means that 112 IDs are parents with children.\n",
      "The ones that are too broad, will not be able to connect to info regarding their substrate properties,\n",
      "and will subsequently be removed.\n"
     ]
    }
   ],
   "source": [
    "# Finding all the parents in tcdb that HAS a child in the df\n",
    "parents_w_children_in_tcdb = set(df_hierarchy_prim[df_hierarchy_prim[\"child\"].isin(all_primary_chebi_tcdb)][\"parent\"])\n",
    "\n",
    "chebi_ids_to_remove = parents_w_children_in_tcdb.intersection(all_primary_chebi_tcdb)\n",
    "\n",
    "filtered_chebis = all_primary_chebi_tcdb - chebi_ids_to_remove\n",
    "\n",
    "print(f\"Now, there are {len(filtered_chebis)} IDs in the filter.\")\n",
    "print(f\"This method only removes {len(all_primary_chebi_tcdb)-len(filtered_chebis)} from the original set of {len(all_primary_chebi_tcdb)} IDs.\\nThis means that {len(all_primary_chebi_tcdb)-len(filtered_chebis)-len(not_in_hierarchy)} IDs are parents with children.\")\n",
    "print(\"The ones that are too broad, will not be able to connect to info regarding their substrate properties,\\nand will subsequently be removed.\")"
   ]
  },
  {
   "cell_type": "markdown",
   "metadata": {},
   "source": [
    "Method 2 is superior, as it gives parents that have no children as well as the leaf nodes. This is not a weakness, as the instances where the ChEBI is too broad to have specific properties, they will simply be removed. It also includes all the IDs that are NOT listed in the hierarchy, as there actually are some, as shown in Method 1. (663 to be exact)"
   ]
  }
 ],
 "metadata": {
  "kernelspec": {
   "display_name": "Python 3",
   "language": "python",
   "name": "python3"
  },
  "language_info": {
   "codemirror_mode": {
    "name": "ipython",
    "version": 3
   },
   "file_extension": ".py",
   "mimetype": "text/x-python",
   "name": "python",
   "nbconvert_exporter": "python",
   "pygments_lexer": "ipython3",
   "version": "3.11.9"
  }
 },
 "nbformat": 4,
 "nbformat_minor": 2
}
