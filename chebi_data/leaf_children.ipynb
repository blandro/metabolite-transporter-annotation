{
 "cells": [
  {
   "cell_type": "code",
   "execution_count": 1,
   "metadata": {},
   "outputs": [],
   "source": [
    "import pandas as pd"
   ]
  },
  {
   "cell_type": "markdown",
   "metadata": {},
   "source": [
    "First of, all the CHEBI-hierarchy df"
   ]
  },
  {
   "cell_type": "code",
   "execution_count": 2,
   "metadata": {},
   "outputs": [
    {
     "data": {
      "text/html": [
       "<div>\n",
       "<style scoped>\n",
       "    .dataframe tbody tr th:only-of-type {\n",
       "        vertical-align: middle;\n",
       "    }\n",
       "\n",
       "    .dataframe tbody tr th {\n",
       "        vertical-align: top;\n",
       "    }\n",
       "\n",
       "    .dataframe thead th {\n",
       "        text-align: right;\n",
       "    }\n",
       "</style>\n",
       "<table border=\"1\" class=\"dataframe\">\n",
       "  <thead>\n",
       "    <tr style=\"text-align: right;\">\n",
       "      <th></th>\n",
       "      <th>child</th>\n",
       "      <th>parent</th>\n",
       "    </tr>\n",
       "  </thead>\n",
       "  <tbody>\n",
       "    <tr>\n",
       "      <th>0</th>\n",
       "      <td>10</td>\n",
       "      <td>133004</td>\n",
       "    </tr>\n",
       "    <tr>\n",
       "      <th>1</th>\n",
       "      <td>11</td>\n",
       "      <td>133004</td>\n",
       "    </tr>\n",
       "    <tr>\n",
       "      <th>2</th>\n",
       "      <td>132893</td>\n",
       "      <td>133004</td>\n",
       "    </tr>\n",
       "    <tr>\n",
       "      <th>3</th>\n",
       "      <td>132895</td>\n",
       "      <td>133004</td>\n",
       "    </tr>\n",
       "    <tr>\n",
       "      <th>4</th>\n",
       "      <td>16777</td>\n",
       "      <td>133004</td>\n",
       "    </tr>\n",
       "    <tr>\n",
       "      <th>...</th>\n",
       "      <td>...</td>\n",
       "      <td>...</td>\n",
       "    </tr>\n",
       "    <tr>\n",
       "      <th>279058</th>\n",
       "      <td>9915</td>\n",
       "      <td>27810</td>\n",
       "    </tr>\n",
       "    <tr>\n",
       "      <th>279059</th>\n",
       "      <td>994</td>\n",
       "      <td>29044</td>\n",
       "    </tr>\n",
       "    <tr>\n",
       "      <th>279060</th>\n",
       "      <td>995</td>\n",
       "      <td>19448</td>\n",
       "    </tr>\n",
       "    <tr>\n",
       "      <th>279061</th>\n",
       "      <td>9971</td>\n",
       "      <td>69088</td>\n",
       "    </tr>\n",
       "    <tr>\n",
       "      <th>279062</th>\n",
       "      <td>9978</td>\n",
       "      <td>45327</td>\n",
       "    </tr>\n",
       "  </tbody>\n",
       "</table>\n",
       "<p>279063 rows × 2 columns</p>\n",
       "</div>"
      ],
      "text/plain": [
       "         child  parent\n",
       "0           10  133004\n",
       "1           11  133004\n",
       "2       132893  133004\n",
       "3       132895  133004\n",
       "4        16777  133004\n",
       "...        ...     ...\n",
       "279058    9915   27810\n",
       "279059     994   29044\n",
       "279060     995   19448\n",
       "279061    9971   69088\n",
       "279062    9978   45327\n",
       "\n",
       "[279063 rows x 2 columns]"
      ]
     },
     "execution_count": 2,
     "metadata": {},
     "output_type": "execute_result"
    }
   ],
   "source": [
    "df_hierarchy = pd.read_csv(\"chebiHierarchy.tsv\", sep=\"\\t\")\n",
    "first_part_link = \"http://purl.obolibrary.org/obo/CHEBI_\"\n",
    "df_hierarchy['child'] = df_hierarchy['child'].str.extract(r'CHEBI_(\\d+)').astype(int)\n",
    "df_hierarchy['parent'] = df_hierarchy['parent'].str.extract(r'CHEBI_(\\d+)').astype(int)\n",
    "df_hierarchy"
   ]
  },
  {
   "cell_type": "markdown",
   "metadata": {},
   "source": [
    "*Method 1*\n",
    "\n",
    "Take the chebis from TCDB, and kill all that have children"
   ]
  },
  {
   "cell_type": "code",
   "execution_count": 21,
   "metadata": {},
   "outputs": [
    {
     "name": "stdout",
     "output_type": "stream",
     "text": [
      "         child  parent\n",
      "0           10  133004\n",
      "1           11  133004\n",
      "2       132893  133004\n",
      "3       132895  133004\n",
      "4        16777  133004\n",
      "...        ...     ...\n",
      "279058    9915   27810\n",
      "279059     994   29044\n",
      "279060     995   19448\n",
      "279061    9971   69088\n",
      "279062    9978   45327\n",
      "\n",
      "[258948 rows x 2 columns]\n"
     ]
    }
   ],
   "source": [
    "all_parents = set(df_hierarchy[\"parent\"])\n",
    "all_children = df_hierarchy[\"child\"].unique().tolist()\n",
    "df_filtered = df_hierarchy[~df_hierarchy[\"child\"].isin(all_parents)]\n",
    "print(df_filtered)"
   ]
  },
  {
   "cell_type": "code",
   "execution_count": 14,
   "metadata": {},
   "outputs": [
    {
     "data": {
      "text/plain": [
       "187792"
      ]
     },
     "execution_count": 14,
     "metadata": {},
     "output_type": "execute_result"
    }
   ],
   "source": [
    "all_chebi_children = df_filtered[\"child\"].unique().tolist()\n",
    "len(all_chebi_children)"
   ]
  },
  {
   "cell_type": "markdown",
   "metadata": {},
   "source": [
    "Now, all the CHEBI IDs from TCDB"
   ]
  },
  {
   "cell_type": "code",
   "execution_count": 17,
   "metadata": {},
   "outputs": [
    {
     "data": {
      "text/plain": [
       "1656"
      ]
     },
     "execution_count": 17,
     "metadata": {},
     "output_type": "execute_result"
    }
   ],
   "source": [
    "df_tcdb = pd.read_csv(\"../tcdb_data_combined.csv\")\n",
    "all_chebi_tcdb = df_tcdb[\"CHEBI IDs\"].unique().tolist()\n",
    "len(all_chebi_tcdb)"
   ]
  },
  {
   "cell_type": "markdown",
   "metadata": {},
   "source": [
    "Assemble the ones that are in both lists"
   ]
  },
  {
   "cell_type": "code",
   "execution_count": 31,
   "metadata": {},
   "outputs": [
    {
     "name": "stdout",
     "output_type": "stream",
     "text": [
      "[135075, 49807, 42452, 40154, 3508, 45453, 29035, 15361, 28009, 17996, 10545, 31460, 61496, 50668, 46502, 15992, 53369, 30031, 45422, 25512, 50434, 383703, 7565, 75861, 27902, 28644, 16763, 16857, 48081, 641, 28199, 29470, 76531, 30297, 16234, 15740, 49468, 29033, 42630, 18022, 37550, 24636, 35673, 18401, 8075, 31432, 29036, 29103, 2453, 29673, 17272, 17474, 32588, 16301, 16150, 15936, 17237, 17439, 28728, 17051, 30150, 16632, 46477, 7731, 6104, 42478, 42626, 63624, 19065, 4883, 9532, 60903, 69437, 41688, 19274, 9948, 20141, 75283, 64626, 47381, 17775, 35475, 71259, 83947, 17563, 6078, 30839, 29108, 72663, 28148, 40646, 6923, 82863, 3764, 31696, 9150, 132804, 16082, 45744, 18019, 30623, 17191, 39473, 443725, 26675, 6714, 26115, 60311, 16995, 34631, 18095, 16865, 49847, 53218, 350546, 30621, 74422, 4911, 85274, 3020, 8984, 23614, 57925, 60210, 4551, 17549, 29806, 63070, 2637, 43968, 78235, 21803, 9555, 50667, 3815, 132153, 64477, 67119, 16452, 75323, 83164, 17698, 9533, 50613, 10101, 10110, 7719, 46245, 32915, 39561, 18361, 31941, 64299, 16724, 26130, 80049, 76264, 63940, 64926, 38155, 4640, 7507, 19203, 17992, 546840, 355715, 17540, 9053, 62084, 81724, 16708, 6729, 16651, 3523, 15847, 61082, 48080, 16244, 28825, 404903, 17754, 72816, 29749, 27780, 32528, 16907, 18212, 8337, 6076, 16510, 15355, 34905, 3699, 64399, 8428, 6801, 46081, 10023, 80662, 33543, 30477, 17240, 5199, 3503, 29007, 89981, 3056, 27023, 17172, 74553, 3139, 22990, 16848, 29989, 63072, 70064, 16766, 30087, 29034, 53423, 64646, 100246, 9212, 3565, 32130, 29703, 10642, 87174, 2365, 84711, 61650, 81070, 33601, 3745, 87346, 45373, 9332, 52646, 17728, 29994, 17536, 15859, 17533, 8426, 3259, 28884, 16537, 58901, 29105, 63827, 36257, 135946, 17154, 62896, 63112, 16893, 19351, 8452, 5576, 2813, 34799, 62898, 40574, 87279, 47571, 29747, 5656, 27732, 4356, 55435, 4853, 51903, 49470, 30624, 83088, 30295, 22908, 18391, 43996, 5019, 17368, 17712, 45081, 16130, 29223, 29226, 29441, 17015, 62046, 15724, 18367, 17879, 64243, 50505, 29699, 8417, 456216, 8885, 51232, 82431, 2679, 16810, 51240, 74752, 32215, 61448, 16541, 73175, 17973, 35026, 18420, 16330, 45725, 133370, 15551, 7912, 3393, 82687, 39150, 57597, 41872, 87185, 3614, 57990, 3558, 9753, 30780, 50385, 48828, 10022, 73918, 16556, 16709, 25540, 25442, 53720, 34908, 17486, 47966, 16055, 84043, 28915, 3556, 16534, 15589, 16113, 31624, 61393, 61425, 61346, 82655, 3537, 138159, 49552, 9501, 4735, 52155, 9494, 31781, 133008, 35469, 35610, 50919, 59941, 63609, 16398, 29681, 77879, 67135, 136521, 57488, 61345, 64703, 16457, 4623, 39214, 13705, 15570, 90759, 84755, 84633, 61417, 8309, 87494, 60761, 62563, 2448, 29702, 32544, 4705, 9160, 21759, 11851, 18101, 28971, 3493, 6909, 16134, 29707, 62533, 5100, 16659, 31466, 8232, 2955, 39099, 16383, 16193, 19984, 17861, 28303, 32139, 44383, 80472, 7438, 15075, 15946, 48219, 74846, 30043, 30803, 34687, 29919, 77845, 9927, 33094, 8828, 47344, 38545, 8364, 38257, 315019, 28498, 90405, 44107, 40009, 4828, 45791, 22526, 133919, 16189, 7809, 18203, 8682, 6030, 6827, 15708, 30915, 82809, 35817, 34922, 4672, 36064, 79296, 2003, 29101, 28508, 6472, 24364, 34768, 9215, 3732, 2786, 10983, 32379, 6211, 61152, 17719, 16427, 48416, 17120, 25646, 262350, 9337, 9328, 17258, 2784, 59809, 90761, 48218, 17632, 36420, 29241, 9997, 23123, 86471, 27375, 5044, 82754, 81761, 58090, 61085, 16094, 7814, 17939, 45825, 23530, 15226, 58716, 17045, 29198, 2255, 58436, 3165, 4886, 16332, 83353, 12931, 63599, 30753, 80022, 72687, 84311, 28364, 2705, 2639, 15368, 78884, 86390, 320061, 57441, 51354, 135560, 9440, 64120, 27470, 44185, 62501, 76612, 791, 36614, 31550, 15797, 16199, 28240, 15741, 25351, 131461, 3015, 9448, 71693, 17660, 29022, 33083, 30921, 72701, 30832, 27641, 35420, 72316, 4877, 3749, 16335, 16469, 34718, 29633, 49432, 38290, 88246, 3567, 36924, 29412, 6618, 62517, 63248, 2469, 28856, 68428, 79284, 57834, 326268, 79325, 137044, 18258, 29298, 30785, 4648, 28865, 29751, 9688, 60963, 62579, 78155, 28925, 36592, 53248, 84046, 25434, 52053, 52101]\n"
     ]
    },
    {
     "data": {
      "text/plain": [
       "590"
      ]
     },
     "execution_count": 31,
     "metadata": {},
     "output_type": "execute_result"
    }
   ],
   "source": [
    "common_children = [id for id in all_chebi_tcdb if id in all_chebi_children ]\n",
    "print(common_children)\n",
    "len(common_children)"
   ]
  },
  {
   "cell_type": "code",
   "execution_count": 27,
   "metadata": {},
   "outputs": [
    {
     "data": {
      "text/plain": [
       "403"
      ]
     },
     "execution_count": 27,
     "metadata": {},
     "output_type": "execute_result"
    }
   ],
   "source": [
    "# That was embarassingly few in common for TCDB and all CHEBIs, so I want to see how many of the CHEBIs are further up in the family three. Hopefully 1066...\n",
    "common_tcdb_all_children = [id for id in all_chebi_tcdb if (id in all_children) and (id not in common_children)]\n",
    "len(common_tcdb_all_children)"
   ]
  },
  {
   "cell_type": "code",
   "execution_count": 30,
   "metadata": {},
   "outputs": [
    {
     "data": {
      "text/plain": [
       "0"
      ]
     },
     "execution_count": 30,
     "metadata": {},
     "output_type": "execute_result"
    }
   ],
   "source": [
    "# Well 403 children that also are parents. Now I need to check the parents... Hopefully 1656-590-403=663\n",
    "all_parents2 = df_hierarchy[\"parent\"].unique().tolist()\n",
    "common_tcdb_all_parents = [id for id in all_chebi_tcdb if (id in all_parents2) and (id not in common_children) and (id not in common_tcdb_all_children)]\n",
    "len(common_tcdb_all_parents)"
   ]
  },
  {
   "cell_type": "markdown",
   "metadata": {},
   "source": [
    "*Method 2*\n",
    "\n",
    "Take the chebis from TCDB, and kill all that have children, if their children are on TCDB too."
   ]
  },
  {
   "cell_type": "code",
   "execution_count": 4,
   "metadata": {},
   "outputs": [],
   "source": [
    "df_tcdb = pd.read_csv(\"../tcdb_data_combined.csv\")\n",
    "all_chebi_tcdb = df_tcdb[\"CHEBI IDs\"].unique().tolist()\n",
    "all_parents = set(df_hierarchy[\"parent\"])\n",
    "df_filtered = df_hierarchy[~df_hierarchy[\"child\"].isin(all_parents)]"
   ]
  },
  {
   "cell_type": "code",
   "execution_count": 13,
   "metadata": {},
   "outputs": [
    {
     "data": {
      "text/plain": [
       "1253"
      ]
     },
     "execution_count": 13,
     "metadata": {},
     "output_type": "execute_result"
    }
   ],
   "source": [
    "chebi_tcdb_filtered = [el for el in all_chebi_tcdb if el not in all_parents]\n",
    "len(chebi_tcdb_filtered)"
   ]
  },
  {
   "cell_type": "code",
   "execution_count": 14,
   "metadata": {},
   "outputs": [],
   "source": [
    "with open(\"chebis_filtered.txt\", \"w\") as f:\n",
    "    f.write(\",\".join(map(str, chebi_tcdb_filtered)))"
   ]
  }
 ],
 "metadata": {
  "kernelspec": {
   "display_name": "Python 3",
   "language": "python",
   "name": "python3"
  },
  "language_info": {
   "codemirror_mode": {
    "name": "ipython",
    "version": 3
   },
   "file_extension": ".py",
   "mimetype": "text/x-python",
   "name": "python",
   "nbconvert_exporter": "python",
   "pygments_lexer": "ipython3",
   "version": "3.11.9"
  }
 },
 "nbformat": 4,
 "nbformat_minor": 2
}
