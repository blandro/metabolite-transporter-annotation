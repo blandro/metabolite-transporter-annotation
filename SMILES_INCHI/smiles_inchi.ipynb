{
 "cells": [
  {
   "cell_type": "code",
   "execution_count": 5,
   "metadata": {},
   "outputs": [],
   "source": [
    "import pandas as pd"
   ]
  },
  {
   "cell_type": "code",
   "execution_count": 6,
   "metadata": {},
   "outputs": [
    {
     "data": {
      "text/html": [
       "<div>\n",
       "<style scoped>\n",
       "    .dataframe tbody tr th:only-of-type {\n",
       "        vertical-align: middle;\n",
       "    }\n",
       "\n",
       "    .dataframe tbody tr th {\n",
       "        vertical-align: top;\n",
       "    }\n",
       "\n",
       "    .dataframe thead th {\n",
       "        text-align: right;\n",
       "    }\n",
       "</style>\n",
       "<table border=\"1\" class=\"dataframe\">\n",
       "  <thead>\n",
       "    <tr style=\"text-align: right;\">\n",
       "      <th></th>\n",
       "      <th>charge</th>\n",
       "      <th>chebi</th>\n",
       "      <th>formula</th>\n",
       "      <th>inchi</th>\n",
       "      <th>inchikey</th>\n",
       "      <th>label</th>\n",
       "      <th>mass</th>\n",
       "      <th>smiles</th>\n",
       "    </tr>\n",
       "  </thead>\n",
       "  <tbody>\n",
       "    <tr>\n",
       "      <th>0</th>\n",
       "      <td>0</td>\n",
       "      <td>http://purl.obolibrary.org/obo/CHEBI_10</td>\n",
       "      <td>C36H38N2O6</td>\n",
       "      <td>InChI=1S/C36H38N2O6/c1-37-13-11-23-18-31(41-3)...</td>\n",
       "      <td>XGEAUXVPBXUBKN-NSOVKSMOSA-N</td>\n",
       "      <td>(+)-Atherospermoline</td>\n",
       "      <td>594.69800</td>\n",
       "      <td>COc1cc2CCN(C)[C@H]3Cc4ccc(Oc5cc(C[C@@H]6N(C)CC...</td>\n",
       "    </tr>\n",
       "    <tr>\n",
       "      <th>1</th>\n",
       "      <td>0</td>\n",
       "      <td>http://purl.obolibrary.org/obo/CHEBI_100</td>\n",
       "      <td>C16H14O4</td>\n",
       "      <td>InChI=1S/C16H14O4/c1-18-10-3-5-11-13-8-19-14-6...</td>\n",
       "      <td>NSRJSISNDPOJOP-BBRMVZONSA-N</td>\n",
       "      <td>(-)-medicarpin</td>\n",
       "      <td>270.27996</td>\n",
       "      <td>[H][C@@]12COc3cc(O)ccc3[C@]1([H])Oc1cc(OC)ccc21</td>\n",
       "    </tr>\n",
       "    <tr>\n",
       "      <th>2</th>\n",
       "      <td>0</td>\n",
       "      <td>http://purl.obolibrary.org/obo/CHEBI_10000</td>\n",
       "      <td>C25H30O5</td>\n",
       "      <td>InChI=1S/C25H30O5/c1-15(2)6-5-7-16(3)8-9-30-19...</td>\n",
       "      <td>KZPCPZBBGCTGCN-LZYBPNLTSA-N</td>\n",
       "      <td>Vismione D</td>\n",
       "      <td>410.50400</td>\n",
       "      <td>CC(C)=CCC\\C(C)=C\\COc1cc(O)c2c(O)c3C(=O)CC(C)(O...</td>\n",
       "    </tr>\n",
       "    <tr>\n",
       "      <th>3</th>\n",
       "      <td>0</td>\n",
       "      <td>http://purl.obolibrary.org/obo/CHEBI_100000</td>\n",
       "      <td>C22H26N2O3</td>\n",
       "      <td>InChI=1S/C22H26N2O3/c1-27-15-21(26)24-19(13-23...</td>\n",
       "      <td>FOQJOAXBJHEYGA-URVUXULASA-N</td>\n",
       "      <td>(2S,3S,4R)-3-[4-(3-cyclopentylprop-1-ynyl)phen...</td>\n",
       "      <td>366.45400</td>\n",
       "      <td>COCC(=O)N1[C@H]([C@H]([C@H]1C#N)C2=CC=C(C=C2)C...</td>\n",
       "    </tr>\n",
       "    <tr>\n",
       "      <th>4</th>\n",
       "      <td>0</td>\n",
       "      <td>http://purl.obolibrary.org/obo/CHEBI_100001</td>\n",
       "      <td>C22H25F3N4O4</td>\n",
       "      <td>InChI=1S/C22H25F3N4O4/c23-22(24,25)15-3-5-16(6...</td>\n",
       "      <td>JHFKDWZHMFMOKL-QYZOEREBSA-N</td>\n",
       "      <td>N-[(2R,3S,6R)-2-(hydroxymethyl)-6-[2-[[oxo-[4-...</td>\n",
       "      <td>466.45400</td>\n",
       "      <td>C1C[C@@H]([C@@H](O[C@H]1CCNC(=O)NC2=CC=C(C=C2)...</td>\n",
       "    </tr>\n",
       "  </tbody>\n",
       "</table>\n",
       "</div>"
      ],
      "text/plain": [
       "   charge                                        chebi       formula  \\\n",
       "0       0      http://purl.obolibrary.org/obo/CHEBI_10    C36H38N2O6   \n",
       "1       0     http://purl.obolibrary.org/obo/CHEBI_100      C16H14O4   \n",
       "2       0   http://purl.obolibrary.org/obo/CHEBI_10000      C25H30O5   \n",
       "3       0  http://purl.obolibrary.org/obo/CHEBI_100000    C22H26N2O3   \n",
       "4       0  http://purl.obolibrary.org/obo/CHEBI_100001  C22H25F3N4O4   \n",
       "\n",
       "                                               inchi  \\\n",
       "0  InChI=1S/C36H38N2O6/c1-37-13-11-23-18-31(41-3)...   \n",
       "1  InChI=1S/C16H14O4/c1-18-10-3-5-11-13-8-19-14-6...   \n",
       "2  InChI=1S/C25H30O5/c1-15(2)6-5-7-16(3)8-9-30-19...   \n",
       "3  InChI=1S/C22H26N2O3/c1-27-15-21(26)24-19(13-23...   \n",
       "4  InChI=1S/C22H25F3N4O4/c23-22(24,25)15-3-5-16(6...   \n",
       "\n",
       "                      inchikey  \\\n",
       "0  XGEAUXVPBXUBKN-NSOVKSMOSA-N   \n",
       "1  NSRJSISNDPOJOP-BBRMVZONSA-N   \n",
       "2  KZPCPZBBGCTGCN-LZYBPNLTSA-N   \n",
       "3  FOQJOAXBJHEYGA-URVUXULASA-N   \n",
       "4  JHFKDWZHMFMOKL-QYZOEREBSA-N   \n",
       "\n",
       "                                               label       mass  \\\n",
       "0                               (+)-Atherospermoline  594.69800   \n",
       "1                                     (-)-medicarpin  270.27996   \n",
       "2                                         Vismione D  410.50400   \n",
       "3  (2S,3S,4R)-3-[4-(3-cyclopentylprop-1-ynyl)phen...  366.45400   \n",
       "4  N-[(2R,3S,6R)-2-(hydroxymethyl)-6-[2-[[oxo-[4-...  466.45400   \n",
       "\n",
       "                                              smiles  \n",
       "0  COc1cc2CCN(C)[C@H]3Cc4ccc(Oc5cc(C[C@@H]6N(C)CC...  \n",
       "1    [H][C@@]12COc3cc(O)ccc3[C@]1([H])Oc1cc(OC)ccc21  \n",
       "2  CC(C)=CCC\\C(C)=C\\COc1cc(O)c2c(O)c3C(=O)CC(C)(O...  \n",
       "3  COCC(=O)N1[C@H]([C@H]([C@H]1C#N)C2=CC=C(C=C2)C...  \n",
       "4  C1C[C@@H]([C@@H](O[C@H]1CCNC(=O)NC2=CC=C(C=C2)...  "
      ]
     },
     "execution_count": 6,
     "metadata": {},
     "output_type": "execute_result"
    }
   ],
   "source": [
    "df_chebi = pd.read_csv(\"chebiDf.tsv\", sep=\"\\t\")\n",
    "df_chebi.head()"
   ]
  },
  {
   "cell_type": "code",
   "execution_count": 35,
   "metadata": {},
   "outputs": [
    {
     "data": {
      "text/html": [
       "<div>\n",
       "<style scoped>\n",
       "    .dataframe tbody tr th:only-of-type {\n",
       "        vertical-align: middle;\n",
       "    }\n",
       "\n",
       "    .dataframe tbody tr th {\n",
       "        vertical-align: top;\n",
       "    }\n",
       "\n",
       "    .dataframe thead th {\n",
       "        text-align: right;\n",
       "    }\n",
       "</style>\n",
       "<table border=\"1\" class=\"dataframe\">\n",
       "  <thead>\n",
       "    <tr style=\"text-align: right;\">\n",
       "      <th></th>\n",
       "      <th>0</th>\n",
       "    </tr>\n",
       "  </thead>\n",
       "  <tbody>\n",
       "    <tr>\n",
       "      <th>0</th>\n",
       "      <td>10</td>\n",
       "    </tr>\n",
       "    <tr>\n",
       "      <th>1</th>\n",
       "      <td>100</td>\n",
       "    </tr>\n",
       "    <tr>\n",
       "      <th>2</th>\n",
       "      <td>10000</td>\n",
       "    </tr>\n",
       "    <tr>\n",
       "      <th>3</th>\n",
       "      <td>100000</td>\n",
       "    </tr>\n",
       "    <tr>\n",
       "      <th>4</th>\n",
       "      <td>100001</td>\n",
       "    </tr>\n",
       "    <tr>\n",
       "      <th>...</th>\n",
       "      <td>...</td>\n",
       "    </tr>\n",
       "    <tr>\n",
       "      <th>178143</th>\n",
       "      <td>190679</td>\n",
       "    </tr>\n",
       "    <tr>\n",
       "      <th>178144</th>\n",
       "      <td>190680</td>\n",
       "    </tr>\n",
       "    <tr>\n",
       "      <th>178145</th>\n",
       "      <td>229676</td>\n",
       "    </tr>\n",
       "    <tr>\n",
       "      <th>178146</th>\n",
       "      <td>58130</td>\n",
       "    </tr>\n",
       "    <tr>\n",
       "      <th>178147</th>\n",
       "      <td>74945</td>\n",
       "    </tr>\n",
       "  </tbody>\n",
       "</table>\n",
       "<p>178148 rows × 1 columns</p>\n",
       "</div>"
      ],
      "text/plain": [
       "             0\n",
       "0           10\n",
       "1          100\n",
       "2        10000\n",
       "3       100000\n",
       "4       100001\n",
       "...        ...\n",
       "178143  190679\n",
       "178144  190680\n",
       "178145  229676\n",
       "178146   58130\n",
       "178147   74945\n",
       "\n",
       "[178148 rows x 1 columns]"
      ]
     },
     "execution_count": 35,
     "metadata": {},
     "output_type": "execute_result"
    }
   ],
   "source": [
    "chebi_ids = df_chebi['chebi'].str.extract(r'CHEBI_(\\d+)').astype(int)\n",
    "chebi_ids"
   ]
  },
  {
   "cell_type": "code",
   "execution_count": 48,
   "metadata": {},
   "outputs": [
    {
     "name": "stdout",
     "output_type": "stream",
     "text": [
      "178148\n",
      "1654\n",
      "178148\n"
     ]
    }
   ],
   "source": [
    "df_tc = pd.read_csv(\"../tc_data_combined.csv\")\n",
    "tc_chebi_ids_split = df_tc['CHEBI IDs'].str.split(',').explode().str.strip().astype(int)\n",
    "# tc_chebi_ids = df_tc['CHEBI IDs'].astype(int).unique()\n",
    "tc_chebi_ids_split = pd.Series(tc_chebi_ids_split)\n",
    "tc_chebi_ids_cleaned = tc_chebi_ids_split.unique()\n",
    "filtered_chebi_ids = chebi_ids[chebi_ids.isin(tc_chebi_ids_cleaned)]\n",
    "\n",
    "print(len(filtered_chebi_ids))\n",
    "print(len(tc_chebi_ids_cleaned))\n",
    "print(len(chebi_ids))"
   ]
  },
  {
   "cell_type": "code",
   "execution_count": 47,
   "metadata": {},
   "outputs": [
    {
     "data": {
      "text/plain": [
       "0    10404\n",
       "1    38083\n",
       "2    25367\n",
       "3     8322\n",
       "4    10601\n",
       "dtype: int64"
      ]
     },
     "execution_count": 47,
     "metadata": {},
     "output_type": "execute_result"
    }
   ],
   "source": [
    "tc_chebi_ids_cleaned.head()"
   ]
  }
 ],
 "metadata": {
  "kernelspec": {
   "display_name": "Python 3",
   "language": "python",
   "name": "python3"
  },
  "language_info": {
   "codemirror_mode": {
    "name": "ipython",
    "version": 3
   },
   "file_extension": ".py",
   "mimetype": "text/x-python",
   "name": "python",
   "nbconvert_exporter": "python",
   "pygments_lexer": "ipython3",
   "version": "3.11.9"
  }
 },
 "nbformat": 4,
 "nbformat_minor": 2
}
